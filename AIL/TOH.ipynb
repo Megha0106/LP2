{
  "nbformat": 4,
  "nbformat_minor": 0,
  "metadata": {
    "colab": {
      "name": "TOH.ipynb",
      "provenance": [],
      "collapsed_sections": []
    },
    "kernelspec": {
      "name": "python3",
      "display_name": "Python 3"
    },
    "language_info": {
      "name": "python"
    }
  },
  "cells": [
    {
      "cell_type": "code",
      "execution_count": 1,
      "metadata": {
        "id": "otJVaxik709u"
      },
      "outputs": [],
      "source": [
        "def toh(n,src,dest,help):\n",
        "  global count\n",
        "  if n==1:\n",
        "    print(\"Move disk 1 from \",src,\" to \",dest);\n",
        "    count+=1\n",
        "    return;\n",
        "  toh(n-1,src,help,dest);\n",
        "  print(\"Move disk \",n,\" from \",src,\"to\",dest);\n",
        "  count+=1\n",
        "  toh(n-1,help,dest,src);"
      ]
    },
    {
      "cell_type": "code",
      "source": [
        "count=0;\n",
        "n = int(input(\"Enter number of discs\"))\n",
        "toh(n,'A','C','B')\n",
        "print(\"Number of moves:\",count)"
      ],
      "metadata": {
        "colab": {
          "base_uri": "https://localhost:8080/"
        },
        "id": "Xv7y_8jR85zK",
        "outputId": "ac2d93b5-72d7-4ea2-a0c0-564f1d0c3973"
      },
      "execution_count": 2,
      "outputs": [
        {
          "output_type": "stream",
          "name": "stdout",
          "text": [
            "Enter number of discs3\n",
            "Move disk 1 from  A  to  C\n",
            "Move disk  2  from  A to B\n",
            "Move disk 1 from  C  to  B\n",
            "Move disk  3  from  A to C\n",
            "Move disk 1 from  B  to  A\n",
            "Move disk  2  from  B to C\n",
            "Move disk 1 from  A  to  C\n",
            "Number of moves: 7\n"
          ]
        }
      ]
    },
    {
      "cell_type": "code",
      "source": [
        ""
      ],
      "metadata": {
        "id": "kdUunypp8-Vq"
      },
      "execution_count": null,
      "outputs": []
    },
    {
      "cell_type": "markdown",
      "source": [
        ""
      ],
      "metadata": {
        "id": "d_TySNgNSXRQ"
      }
    }
  ]
}